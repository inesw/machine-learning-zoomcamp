{
 "cells": [
  {
   "cell_type": "code",
   "execution_count": 72,
   "metadata": {},
   "outputs": [],
   "source": [
    "import pandas as pd\n",
    "import numpy as np\n",
    "import matplotlib.pyplot as plt\n",
    "import seaborn as sns\n",
    "%matplotlib inline"
   ]
  },
  {
   "cell_type": "code",
   "execution_count": 73,
   "metadata": {},
   "outputs": [
    {
     "name": "stdout",
     "output_type": "stream",
     "text": [
      "--2024-09-26 17:29:37--  https://raw.githubusercontent.com/alexeygrigorev/datasets/master/housing.csv\n",
      "Resolving raw.githubusercontent.com (raw.githubusercontent.com)... 2606:50c0:8003::154, 2606:50c0:8000::154, 2606:50c0:8001::154, ...\n",
      "Connecting to raw.githubusercontent.com (raw.githubusercontent.com)|2606:50c0:8003::154|:443... connected.\n",
      "HTTP request sent, awaiting response... 200 OK\n",
      "Length: 1423529 (1,4M) [text/plain]\n",
      "Saving to: ‘housing.csv.1’\n",
      "\n",
      "housing.csv.1       100%[===================>]   1,36M  8,40MB/s    in 0,2s    \n",
      "\n",
      "2024-09-26 17:29:37 (8,40 MB/s) - ‘housing.csv.1’ saved [1423529/1423529]\n",
      "\n"
     ]
    }
   ],
   "source": [
    "!wget https://raw.githubusercontent.com/alexeygrigorev/datasets/master/housing.csv"
   ]
  },
  {
   "cell_type": "code",
   "execution_count": 74,
   "metadata": {},
   "outputs": [],
   "source": [
    "df = pd.read_csv('housing.csv')"
   ]
  },
  {
   "cell_type": "markdown",
   "metadata": {},
   "source": [
    "## EDA"
   ]
  },
  {
   "cell_type": "code",
   "execution_count": 75,
   "metadata": {},
   "outputs": [
    {
     "data": {
      "text/plain": [
       "(20640, 10)"
      ]
     },
     "execution_count": 75,
     "metadata": {},
     "output_type": "execute_result"
    }
   ],
   "source": [
    "df.shape"
   ]
  },
  {
   "cell_type": "code",
   "execution_count": 76,
   "metadata": {},
   "outputs": [
    {
     "data": {
      "text/plain": [
       "longitude               0\n",
       "latitude                0\n",
       "housing_median_age      0\n",
       "total_rooms             0\n",
       "total_bedrooms        207\n",
       "population              0\n",
       "households              0\n",
       "median_income           0\n",
       "median_house_value      0\n",
       "ocean_proximity         0\n",
       "dtype: int64"
      ]
     },
     "execution_count": 76,
     "metadata": {},
     "output_type": "execute_result"
    }
   ],
   "source": [
    "df.isnull().sum()"
   ]
  },
  {
   "cell_type": "code",
   "execution_count": 77,
   "metadata": {},
   "outputs": [
    {
     "data": {
      "text/plain": [
       "longitude             float64\n",
       "latitude              float64\n",
       "housing_median_age    float64\n",
       "total_rooms           float64\n",
       "total_bedrooms        float64\n",
       "population            float64\n",
       "households            float64\n",
       "median_income         float64\n",
       "median_house_value    float64\n",
       "ocean_proximity        object\n",
       "dtype: object"
      ]
     },
     "execution_count": 77,
     "metadata": {},
     "output_type": "execute_result"
    }
   ],
   "source": [
    "df.dtypes"
   ]
  },
  {
   "cell_type": "code",
   "execution_count": 78,
   "metadata": {},
   "outputs": [
    {
     "data": {
      "text/html": [
       "<div>\n",
       "<style scoped>\n",
       "    .dataframe tbody tr th:only-of-type {\n",
       "        vertical-align: middle;\n",
       "    }\n",
       "\n",
       "    .dataframe tbody tr th {\n",
       "        vertical-align: top;\n",
       "    }\n",
       "\n",
       "    .dataframe thead th {\n",
       "        text-align: right;\n",
       "    }\n",
       "</style>\n",
       "<table border=\"1\" class=\"dataframe\">\n",
       "  <thead>\n",
       "    <tr style=\"text-align: right;\">\n",
       "      <th></th>\n",
       "      <th>longitude</th>\n",
       "      <th>latitude</th>\n",
       "      <th>housing_median_age</th>\n",
       "      <th>total_rooms</th>\n",
       "      <th>total_bedrooms</th>\n",
       "      <th>population</th>\n",
       "      <th>households</th>\n",
       "      <th>median_income</th>\n",
       "      <th>median_house_value</th>\n",
       "      <th>ocean_proximity</th>\n",
       "    </tr>\n",
       "  </thead>\n",
       "  <tbody>\n",
       "    <tr>\n",
       "      <th>0</th>\n",
       "      <td>-122.23</td>\n",
       "      <td>37.88</td>\n",
       "      <td>41.0</td>\n",
       "      <td>880.0</td>\n",
       "      <td>129.0</td>\n",
       "      <td>322.0</td>\n",
       "      <td>126.0</td>\n",
       "      <td>8.3252</td>\n",
       "      <td>452600.0</td>\n",
       "      <td>NEAR BAY</td>\n",
       "    </tr>\n",
       "    <tr>\n",
       "      <th>1</th>\n",
       "      <td>-122.22</td>\n",
       "      <td>37.86</td>\n",
       "      <td>21.0</td>\n",
       "      <td>7099.0</td>\n",
       "      <td>1106.0</td>\n",
       "      <td>2401.0</td>\n",
       "      <td>1138.0</td>\n",
       "      <td>8.3014</td>\n",
       "      <td>358500.0</td>\n",
       "      <td>NEAR BAY</td>\n",
       "    </tr>\n",
       "    <tr>\n",
       "      <th>2</th>\n",
       "      <td>-122.24</td>\n",
       "      <td>37.85</td>\n",
       "      <td>52.0</td>\n",
       "      <td>1467.0</td>\n",
       "      <td>190.0</td>\n",
       "      <td>496.0</td>\n",
       "      <td>177.0</td>\n",
       "      <td>7.2574</td>\n",
       "      <td>352100.0</td>\n",
       "      <td>NEAR BAY</td>\n",
       "    </tr>\n",
       "    <tr>\n",
       "      <th>3</th>\n",
       "      <td>-122.25</td>\n",
       "      <td>37.85</td>\n",
       "      <td>52.0</td>\n",
       "      <td>1274.0</td>\n",
       "      <td>235.0</td>\n",
       "      <td>558.0</td>\n",
       "      <td>219.0</td>\n",
       "      <td>5.6431</td>\n",
       "      <td>341300.0</td>\n",
       "      <td>NEAR BAY</td>\n",
       "    </tr>\n",
       "    <tr>\n",
       "      <th>4</th>\n",
       "      <td>-122.25</td>\n",
       "      <td>37.85</td>\n",
       "      <td>52.0</td>\n",
       "      <td>1627.0</td>\n",
       "      <td>280.0</td>\n",
       "      <td>565.0</td>\n",
       "      <td>259.0</td>\n",
       "      <td>3.8462</td>\n",
       "      <td>342200.0</td>\n",
       "      <td>NEAR BAY</td>\n",
       "    </tr>\n",
       "  </tbody>\n",
       "</table>\n",
       "</div>"
      ],
      "text/plain": [
       "   longitude  latitude  housing_median_age  total_rooms  total_bedrooms  \\\n",
       "0    -122.23     37.88                41.0        880.0           129.0   \n",
       "1    -122.22     37.86                21.0       7099.0          1106.0   \n",
       "2    -122.24     37.85                52.0       1467.0           190.0   \n",
       "3    -122.25     37.85                52.0       1274.0           235.0   \n",
       "4    -122.25     37.85                52.0       1627.0           280.0   \n",
       "\n",
       "   population  households  median_income  median_house_value ocean_proximity  \n",
       "0       322.0       126.0         8.3252            452600.0        NEAR BAY  \n",
       "1      2401.0      1138.0         8.3014            358500.0        NEAR BAY  \n",
       "2       496.0       177.0         7.2574            352100.0        NEAR BAY  \n",
       "3       558.0       219.0         5.6431            341300.0        NEAR BAY  \n",
       "4       565.0       259.0         3.8462            342200.0        NEAR BAY  "
      ]
     },
     "execution_count": 78,
     "metadata": {},
     "output_type": "execute_result"
    }
   ],
   "source": [
    "df.head()"
   ]
  },
  {
   "cell_type": "code",
   "execution_count": 79,
   "metadata": {},
   "outputs": [
    {
     "data": {
      "image/png": "[encoded data removed]",
      "text/plain": [
       "<Figure size 640x480 with 1 Axes>"
      ]
     },
     "metadata": {},
     "output_type": "display_data"
    }
   ],
   "source": [
    "sns.histplot(df['median_house_value'])\n",
    "plt.show()"
   ]
  },
  {
   "cell_type": "code",
   "execution_count": 80,
   "metadata": {},
   "outputs": [],
   "source": [
    "df_filt = df[(df['ocean_proximity'].isin(['<1H OCEAN', 'INLAND']))]\n",
    "df_filt = df_filt.drop(columns='ocean_proximity')"
   ]
  },
  {
   "cell_type": "code",
   "execution_count": 81,
   "metadata": {},
   "outputs": [
    {
     "data": {
      "text/plain": [
       "1195.0"
      ]
     },
     "execution_count": 81,
     "metadata": {},
     "output_type": "execute_result"
    }
   ],
   "source": [
    "df_filt['population'].median()"
   ]
  },
  {
   "cell_type": "code",
   "execution_count": 82,
   "metadata": {},
   "outputs": [],
   "source": [
    "def split_data (df_filt, seed_value):\n",
    "\n",
    "    df_shuffled = df_filt.sample(frac=1.0, random_state=seed_value)\n",
    "\n",
    "    n_values = len(df_shuffled)\n",
    "    share_test = 0.2\n",
    "    share_val = 0.2\n",
    "\n",
    "    df_test = df_shuffled[:int(n_values*share_test)].reset_index(drop=True)\n",
    "    df_val = df_shuffled[int(n_values*share_test): int(n_values*(share_test+share_val))].reset_index(drop=True)\n",
    "    df_train = df_shuffled[int(n_values*(share_test+share_val)):].reset_index(drop=True)\n",
    "\n",
    "    return (df_test, df_val, df_train)\n",
    "\n",
    "\n"
   ]
  },
  {
   "cell_type": "code",
   "execution_count": 83,
   "metadata": {},
   "outputs": [],
   "source": [
    "df_test, df_val, df_train = split_data(df_filt, 42)"
   ]
  },
  {
   "cell_type": "code",
   "execution_count": 84,
   "metadata": {},
   "outputs": [],
   "source": [
    "def prep_y (df):\n",
    "    return np.log1p(df['median_house_value'])\n",
    "\n",
    "def revert_prep_y (y):\n",
    "    return np.expm1(y)"
   ]
  },
  {
   "cell_type": "code",
   "execution_count": 85,
   "metadata": {},
   "outputs": [],
   "source": [
    "def prep_x (df_inp, impute_value_bedroom):\n",
    "    df = df_inp.copy()\n",
    "    df['total_bedrooms']=df['total_bedrooms'].fillna(impute_value_bedroom)\n",
    "    #df = df - df.mean()\n",
    "    #df / (df.max() - df.min())\n",
    "    df['bias'] = 1\n",
    "    df = df.drop(columns='median_house_value')\n",
    "\n",
    "\n",
    "\n",
    "    return np.array(df)"
   ]
  },
  {
   "cell_type": "code",
   "execution_count": 86,
   "metadata": {},
   "outputs": [],
   "source": [
    "def lin_regression (X, y, reg_par=0):\n",
    "    XTX = (X.T).dot(X)\n",
    "    XTX_reg = XTX + np.eye(XTX.shape[0])*reg_par\n",
    "    w = np.linalg.inv(XTX_reg).dot(X.T).dot(y)\n",
    "    return w\n"
   ]
  },
  {
   "cell_type": "code",
   "execution_count": 87,
   "metadata": {},
   "outputs": [],
   "source": [
    "def RMSE (y_pred, y_ori):\n",
    "    return  np.sqrt(np.mean((y_pred-y_ori)**2))\n",
    "\n",
    "def eval_with_RMSE (w, X_val, y_val):\n",
    "    y_pred = X_val.dot(w)\n",
    "    y_pred_ori = revert_prep_y(y_pred)\n",
    "    y_val_ori = revert_prep_y(y_val)\n",
    "\n",
    "    RMSE_proc = np.sqrt(np.mean((y_pred-y_val)**2))\n",
    "    RMSE_ori = np.sqrt(np.mean((y_pred_ori-y_val_ori)**2))\n",
    "\n",
    "    return RMSE_proc, RMSE_ori"
   ]
  },
  {
   "cell_type": "code",
   "execution_count": 88,
   "metadata": {},
   "outputs": [
    {
     "name": "stdout",
     "output_type": "stream",
     "text": [
      "(0.3476327848448237, 82315.24817187132)\n",
      "(0.3482731501445509, 81688.19491585842)\n"
     ]
    },
    {
     "data": {
      "text/plain": [
       "array([-2.64703979e-01, -2.79217781e-01,  1.39770133e-03, -1.16078237e-05,\n",
       "        2.38248822e-04, -1.91382165e-04,  4.27354125e-04,  1.74510716e-01,\n",
       "        1.20052732e+01])"
      ]
     },
     "execution_count": 88,
     "metadata": {},
     "output_type": "execute_result"
    }
   ],
   "source": [
    "mean_train_bedroom = df_train['total_bedrooms'].mean()\n",
    "\n",
    "X_train_mean = prep_x(df_train, mean_train_bedroom)\n",
    "X_train_zero = prep_x(df_train, 0) \n",
    "X_val_zero = prep_x(df_val,0)\n",
    "y_train = prep_y(df_train)\n",
    "y_val = prep_y(df_val)\n",
    "\n",
    "w_mean = lin_regression(X_train_mean, y_train)\n",
    "w_zero = lin_regression(X_train_zero, y_train)\n",
    "\n",
    "print (eval_with_RMSE (w_mean, prep_x(df_val,mean_train_bedroom), y_val))\n",
    "print (eval_with_RMSE (w_zero, X_val_zero, y_val))\n",
    "\n",
    "w_zero\n"
   ]
  },
  {
   "cell_type": "code",
   "execution_count": 89,
   "metadata": {},
   "outputs": [
    {
     "name": "stdout",
     "output_type": "stream",
     "text": [
      "0 0.3482731501445509\n",
      "1e-06 0.3482731502079345\n",
      "0.0001 0.34827315648301077\n",
      "0.001 0.3482732135312563\n",
      "0.01 0.3482737842216583\n",
      "0.1 0.3482795119196491\n",
      "1 0.34833886746127896\n",
      "5 0.34864829812948384\n",
      "10 0.34913937744977375\n"
     ]
    }
   ],
   "source": [
    "for reg_par in [0, 0.000001, 0.0001, 0.001, 0.01, 0.1, 1, 5, 10]:\n",
    "    w = lin_regression(X_train_zero, y_train, reg_par=reg_par)\n",
    "    y_pred = X_val_zero.dot(w)\n",
    "    print (reg_par, RMSE(y_pred, y_val))\n",
    "\n",
    "# Here, 0.1 gives best regularization"
   ]
  },
  {
   "cell_type": "code",
   "execution_count": 91,
   "metadata": {},
   "outputs": [],
   "source": [
    "RMSEs = []\n",
    "for rand_state  in np.arange(10):\n",
    "    df_test, df_val, df_train = split_data(df_filt, rand_state)\n",
    "    X_train = prep_x(df_train,0)\n",
    "    y_train = prep_y(df_train)\n",
    "    X_val = prep_x(df_val,0)\n",
    "    y_val = prep_y(df_val)\n",
    "    w = lin_regression(X_train,y_train)\n",
    "    RMSEs.append(RMSE(X_val.dot(w), y_val))\n",
    "np.std(RMSEs)"
   ]
  },
  {
   "cell_type": "code",
   "execution_count": 96,
   "metadata": {},
   "outputs": [
    {
     "name": "stdout",
     "output_type": "stream",
     "text": [
      "0.3359528744965827\n"
     ]
    }
   ],
   "source": [
    "df_test, df_val, df_train = split_data(df_filt, 9)\n",
    "df_full_train = pd.concat([df_train, df_val])\n",
    "X_train = prep_x(df_full_train,0)\n",
    "y_train = prep_y(df_full_train)\n",
    "X_val = prep_x(df_val,0)\n",
    "y_val = prep_y(df_val)\n",
    "w = lin_regression(X_train,y_train)\n",
    "print(RMSE(X_val.dot(w), y_val))"
   ]
  },
  {
   "cell_type": "code",
   "execution_count": null,
   "metadata": {},
   "outputs": [],
   "source": []
  }
 ],
 "metadata": {
  "kernelspec": {
   "display_name": "ml-zoomcamp",
   "language": "python",
   "name": "python3"
  },
  "language_info": {
   "codemirror_mode": {
    "name": "ipython",
    "version": 3
   },
   "file_extension": ".py",
   "mimetype": "text/x-python",
   "name": "python",
   "nbconvert_exporter": "python",
   "pygments_lexer": "ipython3",
   "version": "3.11.9"
  }
 },
 "nbformat": 4,
 "nbformat_minor": 2
}
